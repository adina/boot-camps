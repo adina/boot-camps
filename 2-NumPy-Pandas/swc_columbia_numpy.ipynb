{
 "metadata": {
  "name": "swc_columbia_numpy"
 },
 "nbformat": 3,
 "nbformat_minor": 0,
 "worksheets": [
  {
   "cells": [
    {
     "cell_type": "markdown",
     "metadata": {},
     "source": [
      "<h1>NumPy</h1>"
     ]
    },
    {
     "cell_type": "markdown",
     "metadata": {
      "slideshow": {
       "slide_start": false
      }
     },
     "source": [
      "Python is a fairly good language for scientific work. It is easy to learn, and can easily interact with tons of different things. But, insofar as most scientific computing is numerical in nature, it has a few problems:"
     ]
    },
    {
     "cell_type": "markdown",
     "metadata": {
      "slideshow": {
       "slide_start": false
      }
     },
     "source": [
      " * It is slow. In particular, function call overhead is quite high, and loops are quite slow.\n",
      " * Its basic data structures are optimized for use cases other than storing large quantities of numerical data. The standard library `array` module is an option but it is clunky and not very featureful.\n",
      " * Interacting with big huge nested lists and dictionaries can get quite complicated rather quickly.\n",
      "\n",
      "**NumPy** is a library that provides a powerful N-dimensional array container that gets around some of these problems. \n",
      "\n",
      "**Pandas** is a library built on top of NumPy for facilitating data analysis."
     ]
    },
    {
     "cell_type": "markdown",
     "metadata": {
      "slideshow": {
       "slide_start": true
      }
     },
     "source": [
      "<h2>Diving In</h2>\n",
      "\n",
      "At first glance, NumPy arrays appear similar to (nested) Python sequences:"
     ]
    },
    {
     "cell_type": "code",
     "collapsed": false,
     "input": [
      "import numpy as np\n",
      "np.array([0, 2, 4])"
     ],
     "language": "python",
     "metadata": {
      "slideshow": {
       "slide_start": false
      }
     },
     "outputs": []
    },
    {
     "cell_type": "code",
     "collapsed": false,
     "input": [
      "np.array([[2, 9, 3], [2, 5, 7]])"
     ],
     "language": "python",
     "metadata": {
      "slideshow": {
       "slide_start": false
      }
     },
     "outputs": []
    },
    {
     "cell_type": "markdown",
     "metadata": {
      "slideshow": {
       "slide_start": true
      }
     },
     "source": [
      "Things are a little bit subtler, however."
     ]
    },
    {
     "cell_type": "code",
     "collapsed": false,
     "input": [
      "a = np.array([[5, 2], [3, 9]])"
     ],
     "language": "python",
     "metadata": {
      "slideshow": {
       "slide_start": false
      }
     },
     "outputs": []
    },
    {
     "cell_type": "code",
     "collapsed": false,
     "input": [
      "a.dtype"
     ],
     "language": "python",
     "metadata": {
      "slideshow": {
       "slide_start": false
      }
     },
     "outputs": []
    },
    {
     "cell_type": "code",
     "collapsed": false,
     "input": [
      "b = np.array([[5., 2], [3, 9]])"
     ],
     "language": "python",
     "metadata": {
      "slideshow": {
       "slide_start": false
      }
     },
     "outputs": []
    },
    {
     "cell_type": "code",
     "collapsed": false,
     "input": [
      "b"
     ],
     "language": "python",
     "metadata": {
      "slideshow": {
       "slide_start": false
      }
     },
     "outputs": []
    },
    {
     "cell_type": "code",
     "collapsed": false,
     "input": [
      "b.dtype"
     ],
     "language": "python",
     "metadata": {
      "slideshow": {
       "slide_start": false
      }
     },
     "outputs": []
    },
    {
     "cell_type": "markdown",
     "metadata": {
      "slideshow": {
       "slide_start": true
      }
     },
     "source": [
      "<h2>NumPy arrays in a nutshell</h2>\n",
      "\n",
      "NumPy arrays are\n",
      "\n",
      "* *explicitly typed** (every element shares a common, usually numeric, machine-level type),\n",
      "* homogeneous* (only one type of atomic element per array),\n",
      "* N-dimensional grids (no ragged dimensions -- necessary for rapid index computations)\n",
      "* Backed by a real chunk of memory"
     ]
    },
    {
     "cell_type": "markdown",
     "metadata": {
      "slideshow": {
       "slide_start": false
      }
     },
     "source": [
      "Fundamentally important attributes:\n",
      "\n",
      "* `ndim` -- the number of dimensions\n",
      "* `shape` -- a tuple of integers; the length along each dimension (`len(x.shape) == x.ndim`)\n",
      "* `dtype` -- a descriptor of the individual elements of the array"
     ]
    },
    {
     "cell_type": "markdown",
     "metadata": {
      "slideshow": {
       "slide_start": true
      }
     },
     "source": [
      "<h2><tt>dtype</tt>s in more detail</h2>\n",
      "\n",
      "Unlike Python builtin types, where integers can get as large as you like (but get slower past a certain point), types NumPy behave more like they do in languages that are \"closer to the metal\"."
     ]
    },
    {
     "cell_type": "markdown",
     "metadata": {
      "slideshow": {
       "slide_start": false
      }
     },
     "source": [
      "Built-in NumPy numeric dtypes:\n",
      "\n",
      "* `int8`, `int16`, `int32`, `int64`, `uint*` variants\n",
      "* `float32`, `float64` (a.k.a. single and double precision, or `float` and `double` in other languages)\n",
      "* `bool`\n",
      "* string/Unicode (with bounded character length) and object arrays are also supported\n",
      "\n",
      "In all multi-byte cases, NumPy supports both big- and little-endian modes (if you don't know what this is, don't worry about it)."
     ]
    },
    {
     "cell_type": "heading",
     "level": 2,
     "metadata": {
      "slideshow": {
       "slide_start": true
      }
     },
     "source": [
      "Other ways to create NumPy arrays"
     ]
    },
    {
     "cell_type": "markdown",
     "metadata": {},
     "source": [
      "An array full of zeros, of a given dtype:"
     ]
    },
    {
     "cell_type": "code",
     "collapsed": false,
     "input": [
      "np.zeros((2, 3), dtype=np.float32) # all of these functions take a dtype keyword"
     ],
     "language": "python",
     "metadata": {
      "slideshow": {
       "slide_start": false
      }
     },
     "outputs": []
    },
    {
     "cell_type": "markdown",
     "metadata": {},
     "source": [
      "An empty (uninitialized!) array of 16-bit integers:"
     ]
    },
    {
     "cell_type": "code",
     "collapsed": false,
     "input": [
      "np.empty((2, 5), dtype='>i2')  # terse string codes too"
     ],
     "language": "python",
     "metadata": {
      "slideshow": {
       "slide_start": false
      }
     },
     "outputs": []
    },
    {
     "cell_type": "heading",
     "level": 2,
     "metadata": {
      "slideshow": {
       "slide_start": true
      }
     },
     "source": [
      "Even more ways to create NumPy arrays"
     ]
    },
    {
     "cell_type": "markdown",
     "metadata": {},
     "source": [
      "The identity matrix (complex dtype):"
     ]
    },
    {
     "cell_type": "code",
     "collapsed": false,
     "input": [
      "np.eye(4, dtype='complex64') # Identity matrix"
     ],
     "language": "python",
     "metadata": {
      "slideshow": {
       "slide_start": false
      }
     },
     "outputs": []
    },
    {
     "cell_type": "code",
     "collapsed": false,
     "input": [
      "np.arange(3, 10, 2) # Same arguments, behaviour as range()/xrange()"
     ],
     "language": "python",
     "metadata": {
      "slideshow": {
       "slide_start": false
      }
     },
     "outputs": []
    },
    {
     "cell_type": "code",
     "collapsed": false,
     "input": [
      "np.linspace(0, 1, 5) # 5 values linearly between 0 and 1 inclusive"
     ],
     "language": "python",
     "metadata": {
      "slideshow": {
       "slide_start": false
      }
     },
     "outputs": []
    },
    {
     "cell_type": "code",
     "collapsed": false,
     "input": [
      "np.logspace(-5, 0, 3) # args are exponent (base 10, or `base` keyword)"
     ],
     "language": "python",
     "metadata": {
      "slideshow": {
       "slide_start": false
      }
     },
     "outputs": []
    },
    {
     "cell_type": "markdown",
     "metadata": {
      "slideshow": {
       "slide_start": true
      }
     },
     "source": [
      "<h2>ufuncs</h2>\n",
      "    \n",
      "NumPy includes many *universal functions*, or *ufuncs*, that operate on every element in an array.\n",
      "\n",
      "The loop is performed in C, so it's quite fast."
     ]
    },
    {
     "cell_type": "code",
     "collapsed": false,
     "input": [
      "np.sqrt(np.arange(20))"
     ],
     "language": "python",
     "metadata": {
      "slideshow": {
       "slide_start": false
      }
     },
     "outputs": []
    },
    {
     "cell_type": "markdown",
     "metadata": {
      "slideshow": {
       "slide_start": true
      }
     },
     "source": [
      "<h2>Basic indexing/slicing</h2>\n",
      "\n",
      "Another big difference between NumPy arrays and nested sequences: much more powerful indexing."
     ]
    },
    {
     "cell_type": "code",
     "collapsed": false,
     "input": [
      "a = np.random.uniform(size=(5, 3, 2))\n",
      "a[0, 0, 0]"
     ],
     "language": "python",
     "metadata": {
      "slideshow": {
       "slide_start": false
      }
     },
     "outputs": []
    },
    {
     "cell_type": "code",
     "collapsed": false,
     "input": [
      "a[0, 0, :]"
     ],
     "language": "python",
     "metadata": {
      "slideshow": {
       "slide_start": false
      }
     },
     "outputs": []
    },
    {
     "cell_type": "code",
     "collapsed": false,
     "input": [
      "a[0, :2, :]"
     ],
     "language": "python",
     "metadata": {
      "slideshow": {
       "slide_start": false
      }
     },
     "outputs": []
    },
    {
     "cell_type": "code",
     "collapsed": false,
     "input": [
      "a[1:5:2, 2, :]  # Mixing single index, slicing"
     ],
     "language": "python",
     "metadata": {
      "slideshow": {
       "slide_start": false
      }
     },
     "outputs": []
    },
    {
     "cell_type": "markdown",
     "metadata": {
      "slideshow": {
       "slide_start": true
      }
     },
     "source": [
      "<h2>Views</h2>\n",
      "\n",
      "Note that when slicing and indexing arrays like with single indices and slices, *no data copy is performed*. For example:"
     ]
    },
    {
     "cell_type": "code",
     "collapsed": false,
     "input": [
      "b = a[0, ::2, :]\n",
      "print b.shape"
     ],
     "language": "python",
     "metadata": {
      "slideshow": {
       "slide_start": false
      }
     },
     "outputs": []
    },
    {
     "cell_type": "code",
     "collapsed": false,
     "input": [
      "b[0, 0] = 5; b[0, 1] = 6; b[1, 0] = 7; b[1, 1] = 8"
     ],
     "language": "python",
     "metadata": {
      "slideshow": {
       "slide_start": false
      }
     },
     "outputs": []
    },
    {
     "cell_type": "markdown",
     "metadata": {
      "slideshow": {
       "slide_start": false
      }
     },
     "source": [
      "Now, if we look at the same slice of `a`:"
     ]
    },
    {
     "cell_type": "code",
     "collapsed": false,
     "input": [
      "a"
     ],
     "language": "python",
     "metadata": {
      "slideshow": {
       "slide_start": false
      }
     },
     "outputs": []
    },
    {
     "cell_type": "markdown",
     "metadata": {
      "slideshow": {
       "slide_start": false
      }
     },
     "source": [
      "This is a very good thing for memory efficiency and speed, but can lead to unexpected bugs for newcomers. The `copy` method is your friend."
     ]
    },
    {
     "cell_type": "heading",
     "level": 2,
     "metadata": {
      "slideshow": {
       "slide_start": true
      }
     },
     "source": [
      "Exercise 1"
     ]
    },
    {
     "cell_type": "code",
     "collapsed": false,
     "input": [
      "a = array([[ 1,  2,  3,  4],\n",
      "           [ 5,  6,  7,  8],\n",
      "           [ 9, 10, 11, 12],\n",
      "           [13, 14, 15, 16]])\n",
      "# Or...\n",
      "a = arange(1, 17).reshape((4, 4))"
     ],
     "language": "python",
     "metadata": {
      "slideshow": {
       "slide_start": false
      }
     },
     "outputs": []
    },
    {
     "cell_type": "markdown",
     "metadata": {
      "slideshow": {
       "slide_start": false
      }
     },
     "source": [
      "Index into the array to pull out the 2x2 sub-array corresponding to 2, 3, 6 and 7."
     ]
    },
    {
     "cell_type": "code",
     "collapsed": false,
     "input": [],
     "language": "python",
     "metadata": {
      "slideshow": {
       "slide_start": false
      }
     },
     "outputs": []
    },
    {
     "cell_type": "markdown",
     "metadata": {
      "slideshow": {
       "slide_start": false
      }
     },
     "source": [
      "Now, set the 9, 10, 11, 13, 14 and 15 elements to 0. Note that you can use these indexing expressions on the left hand side of an assignment."
     ]
    },
    {
     "cell_type": "code",
     "collapsed": false,
     "input": [],
     "language": "python",
     "metadata": {
      "slideshow": {
       "slide_start": false
      }
     },
     "outputs": []
    },
    {
     "cell_type": "markdown",
     "metadata": {
      "slideshow": {
       "slide_start": true
      }
     },
     "source": [
      "<h2>Advanced Indexing</h2>\n",
      "\n",
      "Advanced or ``fancy'' indexing allows one to use arrays or lists to indexing along a given dimension. In contrast to basic indexing and slicing, advanced indexing **always** creates a copy."
     ]
    },
    {
     "cell_type": "code",
     "collapsed": false,
     "input": [
      "b = np.arange(15).reshape((5, 3))\n",
      "b"
     ],
     "language": "python",
     "metadata": {
      "slideshow": {
       "slide_start": false
      }
     },
     "outputs": []
    },
    {
     "cell_type": "code",
     "collapsed": false,
     "input": [
      "b[[0, 1, 4]] # Implicitly b[[0, 1, 4], :]"
     ],
     "language": "python",
     "metadata": {
      "slideshow": {
       "slide_start": false
      }
     },
     "outputs": []
    },
    {
     "cell_type": "markdown",
     "metadata": {
      "slideshow": {
       "slide_start": true
      }
     },
     "source": [
      "<h2>Multiple axes and advanced indexing</h2>\n",
      "\n"
     ]
    },
    {
     "cell_type": "code",
     "collapsed": false,
     "input": [
      "b[[1, 4], [0, 2]]\n",
      "b"
     ],
     "language": "python",
     "metadata": {
      "slideshow": {
       "slide_start": false
      }
     },
     "outputs": []
    },
    {
     "cell_type": "markdown",
     "metadata": {
      "slideshow": {
       "slide_start": false
      }
     },
     "source": [
      "We're not limited to one-dimensional index arrays along each axis."
     ]
    },
    {
     "cell_type": "code",
     "collapsed": false,
     "input": [
      "b[[[1, 4], [2, 1]], [[2, 1], [1, 2]]]"
     ],
     "language": "python",
     "metadata": {
      "slideshow": {
       "slide_start": false
      }
     },
     "outputs": []
    },
    {
     "cell_type": "markdown",
     "metadata": {
      "slideshow": {
       "slide_start": false
      }
     },
     "source": [
      "Note that deterministic but unintuitive things happen when you mix advanced indexing and slicing. My advice: *just say no*."
     ]
    },
    {
     "cell_type": "markdown",
     "metadata": {
      "slideshow": {
       "slide_start": true
      }
     },
     "source": [
      "<h2>Exercise 2</h2>\n",
      "\n",
      "Pull out the values 1, 2, 3, 4, 5 from `c` in ascending order using advanced indexing."
     ]
    },
    {
     "cell_type": "code",
     "collapsed": false,
     "input": [
      "c = np.array([[4, 9, 2, 5],\n",
      "              [1, 6, 3, 7]])"
     ],
     "language": "python",
     "metadata": {
      "slideshow": {
       "slide_start": false
      }
     },
     "outputs": []
    },
    {
     "cell_type": "code",
     "collapsed": false,
     "input": [],
     "language": "python",
     "metadata": {},
     "outputs": []
    },
    {
     "cell_type": "markdown",
     "metadata": {
      "slideshow": {
       "slide_start": true
      }
     },
     "source": [
      "<h2>Elementwise operations</h2>\n",
      "\n",
      "Part of the real power of NumPy lies in how easily and quickly (faster than Python loops) you can manipulate the values in whole arrays at once."
     ]
    },
    {
     "cell_type": "code",
     "collapsed": false,
     "input": [
      "c[[1, 0, 1, 0, 0], [0, 2, 2, 0, 3]]"
     ],
     "language": "python",
     "metadata": {
      "slideshow": {
       "slide_start": false
      }
     },
     "outputs": []
    },
    {
     "cell_type": "code",
     "collapsed": false,
     "input": [
      "5 * np.arange(4) + 3"
     ],
     "language": "python",
     "metadata": {
      "slideshow": {
       "slide_start": false
      }
     },
     "outputs": []
    },
    {
     "cell_type": "markdown",
     "metadata": {
      "slideshow": {
       "slide_start": false
      }
     },
     "source": [
      "Arithmetic with scalars applies to the entire array. Array-array operations work as expected (elementwise) when things have the same shape."
     ]
    },
    {
     "cell_type": "code",
     "collapsed": false,
     "input": [
      "np.arange(4) + np.array([3, 5, 3, 1])"
     ],
     "language": "python",
     "metadata": {
      "slideshow": {
       "slide_start": false
      }
     },
     "outputs": []
    },
    {
     "cell_type": "markdown",
     "metadata": {
      "slideshow": {
       "slide_start": true
      }
     },
     "source": [
      "<h2>Broadcasting</h2>\n",
      "\n",
      "When two arrays **don't** have the same shape, NumPy will attempt to **broadcast** them to the same shape. This first and foremost means that any dimensions with length 1 in one array are **repeated along that axis** for the purposes of the operation taking place. This is best illustrated with an example."
     ]
    },
    {
     "cell_type": "code",
     "collapsed": false,
     "input": [
      "row = np.array([[3, 6, 9]])\n",
      "row.shape"
     ],
     "language": "python",
     "metadata": {
      "slideshow": {
       "slide_start": false
      }
     },
     "outputs": []
    },
    {
     "cell_type": "code",
     "collapsed": false,
     "input": [
      "identity = np.eye(3)\n",
      "identity"
     ],
     "language": "python",
     "metadata": {
      "slideshow": {
       "slide_start": false
      }
     },
     "outputs": []
    },
    {
     "cell_type": "code",
     "collapsed": false,
     "input": [
      "row.shape"
     ],
     "language": "python",
     "metadata": {
      "slideshow": {
       "slide_start": false
      }
     },
     "outputs": []
    },
    {
     "cell_type": "code",
     "collapsed": false,
     "input": [
      "identity.shape"
     ],
     "language": "python",
     "metadata": {
      "slideshow": {
       "slide_start": true
      }
     },
     "outputs": []
    },
    {
     "cell_type": "code",
     "collapsed": false,
     "input": [
      "row + identity"
     ],
     "language": "python",
     "metadata": {
      "slideshow": {
       "slide_start": false
      }
     },
     "outputs": []
    },
    {
     "cell_type": "code",
     "collapsed": false,
     "input": [
      "col = np.array([[3],\n",
      "                [6],\n",
      "                [9]])\n",
      "col.shape"
     ],
     "language": "python",
     "metadata": {
      "slideshow": {
       "slide_start": false
      }
     },
     "outputs": []
    },
    {
     "cell_type": "code",
     "collapsed": false,
     "input": [
      "col + identity"
     ],
     "language": "python",
     "metadata": {
      "slideshow": {
       "slide_start": false
      }
     },
     "outputs": []
    },
    {
     "cell_type": "markdown",
     "metadata": {
      "slideshow": {
       "slide_start": true
      }
     },
     "source": [
      "<h2>More Broadcasting Fun</h2>\n",
      "\n",
      "If two arrays in an operation do not have the same number of dimensions, NumPy follows a simple rule to try and broadcast them:\n",
      "\n",
      "<h2><center><em>Left pad the shape of the array with less dimensions with 1s,<br/>then proceed as above.</em></center></h2>\n",
      "\n",
      "(*) You can think of a scalar as a 0-dimensional array with shape `()`, and this unifies broadcasting and array-scalar operations."
     ]
    },
    {
     "cell_type": "code",
     "collapsed": false,
     "input": [
      "one_d = np.array([3, 6, 9])\n",
      "one_d.shape"
     ],
     "language": "python",
     "metadata": {
      "slideshow": {
       "slide_start": false
      }
     },
     "outputs": []
    },
    {
     "cell_type": "code",
     "collapsed": false,
     "input": [
      "one_d + np.eye(3)"
     ],
     "language": "python",
     "metadata": {
      "slideshow": {
       "slide_start": false
      }
     },
     "outputs": []
    },
    {
     "cell_type": "markdown",
     "metadata": {
      "slideshow": {
       "slide_start": true
      }
     },
     "source": [
      "<h2>What if I want the other way?</h2>\n",
      "\n",
      "Often you want to add singleton axes to an existing array of lower dimension. The easiest method is to index with `np.newaxis` (which is actually defined as `None`):"
     ]
    },
    {
     "cell_type": "code",
     "collapsed": false,
     "input": [
      "one_d[:, np.newaxis].shape"
     ],
     "language": "python",
     "metadata": {
      "slideshow": {
       "slide_start": false
      }
     },
     "outputs": []
    },
    {
     "cell_type": "code",
     "collapsed": false,
     "input": [
      "one_d[:, np.newaxis] + np.eye(3)"
     ],
     "language": "python",
     "metadata": {
      "slideshow": {
       "slide_start": false
      }
     },
     "outputs": []
    },
    {
     "cell_type": "markdown",
     "metadata": {
      "slideshow": {
       "slide_start": false
      }
     },
     "source": [
      "The `reshape` method/function also works. "
     ]
    },
    {
     "cell_type": "markdown",
     "metadata": {
      "slideshow": {
       "slide_start": true
      }
     },
     "source": [
      "<h2>Reductions</h2>\n",
      "\n",
      "In many, many settings, we care about some property of a group of elements. We call these generally *reductions*."
     ]
    },
    {
     "cell_type": "markdown",
     "metadata": {
      "slideshow": {
       "slide_start": false
      }
     },
     "source": [
      "NumPy arrays support a number of commonly required reductions as methods:\n",
      "\n",
      "* `min`, `max` -- Minimum and maximum element\n",
      "* `argmin`, `argmax` -- *index* of the minimum/maximum element\n",
      "* `sum` -- sum of elements\n",
      "* `prod` -- product of elements\n",
      "* `mean` -- mean element\n",
      "* `var`, `std` -- variance, standard deviation\n",
      "* `all` -- do all elements evaluate boolean `True`?\n",
      "* `any` -- do any elements evaluate boolean `True`?\n",
      "\n",
      "They are also available as top-level functions in the `numpy` module.\n",
      "\n",
      "Defaults to *all elements*, but an `axis` argument allows reduction over a given axis."
     ]
    },
    {
     "cell_type": "code",
     "collapsed": false,
     "input": [
      "r = numpy.random.uniform(size=(50, 20))"
     ],
     "language": "python",
     "metadata": {
      "slideshow": {
       "slide_start": true
      }
     },
     "outputs": []
    },
    {
     "cell_type": "code",
     "collapsed": false,
     "input": [
      "r.mean()"
     ],
     "language": "python",
     "metadata": {
      "slideshow": {
       "slide_start": false
      }
     },
     "outputs": []
    },
    {
     "cell_type": "code",
     "collapsed": false,
     "input": [
      "r.mean(axis=1)"
     ],
     "language": "python",
     "metadata": {
      "slideshow": {
       "slide_start": false
      }
     },
     "outputs": []
    },
    {
     "cell_type": "markdown",
     "metadata": {
      "slideshow": {
       "slide_start": true
      }
     },
     "source": [
      "<h2>Exercise 3</h2>\n",
      "\n",
      "Write a function `normalize_vectors` that takes a 2D array and divides each row by the norm of that row, where the norm is defined as $\\sqrt{x_1^2 + x_2^2 + \\ldots + x_n^2}$."
     ]
    },
    {
     "cell_type": "code",
     "collapsed": false,
     "input": [],
     "language": "python",
     "metadata": {
      "slideshow": {
       "slide_start": false
      }
     },
     "outputs": []
    },
    {
     "cell_type": "markdown",
     "metadata": {
      "slideshow": {
       "slide_start": true
      }
     },
     "source": [
      "<h2>Elementwise comparisons</h2>\n",
      "\n",
      "Comparing NumPy arrays with each other, or with a scalar, operates elementwise on the arrays. All of the same broadcasting rules apply."
     ]
    },
    {
     "cell_type": "code",
     "collapsed": false,
     "input": [
      "a = np.array([[4, 9],\n",
      "              [5, 3]])\n",
      "\n",
      "a > 4"
     ],
     "language": "python",
     "metadata": {
      "slideshow": {
       "slide_start": false
      }
     },
     "outputs": []
    },
    {
     "cell_type": "markdown",
     "metadata": {
      "slideshow": {
       "slide_start": true
      }
     },
     "source": [
      "Boolean arrays can be used for indexing, as well:"
     ]
    },
    {
     "cell_type": "code",
     "collapsed": false,
     "input": [
      "a[a > 4]"
     ],
     "language": "python",
     "metadata": {
      "slideshow": {
       "slide_start": false
      }
     },
     "outputs": []
    },
    {
     "cell_type": "code",
     "collapsed": false,
     "input": [
      "(a > 0).all()"
     ],
     "language": "python",
     "metadata": {
      "slideshow": {
       "slide_start": false
      }
     },
     "outputs": []
    },
    {
     "cell_type": "code",
     "collapsed": false,
     "input": [
      "(a < 2).any()"
     ],
     "language": "python",
     "metadata": {
      "slideshow": {
       "slide_start": false
      }
     },
     "outputs": []
    }
   ],
   "metadata": {}
  }
 ]
}