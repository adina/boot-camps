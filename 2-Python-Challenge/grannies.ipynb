{
 "metadata": {
  "name": "grannies"
 }, 
 "nbformat": 2, 
 "worksheets": [
  {
   "cells": [
    {
     "cell_type": "markdown", 
     "source": [
      "### Scientific Python Basics", 
      "", 
      "## Software Carpentry Bootcamp", 
      "## Columbia University, NYC,", 
      "## January 2013", 
      "Created and Presented by: Adina Howe and David Warde-Farley"
     ]
    }, 
    {
     "cell_type": "code", 
     "collapsed": false, 
     "input": [
      "! ls"
     ], 
     "language": "python", 
     "outputs": [
      {
       "output_type": "stream", 
       "stream": "stdout", 
       "text": [
        "big-test.txt     grades.txt       index.rst~       test2.txt", 
        "big-test.txt~    grannies.ipynb   student-info.txt", 
        "foo.py           grannies.txt     students.txt.gz", 
        "foo.py~          index.rst        test1.txt"
       ]
      }
     ], 
     "prompt_number": 1
    }, 
    {
     "cell_type": "code", 
     "collapsed": false, 
     "input": [
      "! wc *txt"
     ], 
     "language": "python", 
     "outputs": [
      {
       "output_type": "stream", 
       "stream": "stdout", 
       "text": [
        "      10      60     350 big-test.txt", 
        "   51350   51350 1431269 grades.txt", 
        "   51350   51350  821600 grannies.txt", 
        "   51350  308100 1790719 student-info.txt", 
        "      10      10     160 test1.txt", 
        "      10      10     277 test2.txt", 
        "  154080  410880 4044375 total"
       ]
      }
     ], 
     "prompt_number": 2
    }, 
    {
     "cell_type": "markdown", 
     "source": [
      "Them's a lot of lines for excel....How do we look at them?"
     ]
    }, 
    {
     "cell_type": "code", 
     "collapsed": false, 
     "input": [
      "!head *txt"
     ], 
     "language": "python", 
     "outputs": [
      {
       "output_type": "stream", 
       "stream": "stdout", 
       "text": [
        "==> big-test.txt <==", 
        "990119785 1 0 0 64.4019973375 'C' ", 
        "990162735 0 2 0 70.5143152415 'B' ", 
        "990119780 1 0 0 88.4154280604 'A' ", 
        "990219565 0 0 2 83.4197865809 'B' ", 
        "990144000 0 0 0 67.2402481625 'C' ", 
        "990061530 1 0 0 84.1021278219 'B' ", 
        "990168470 0 0 0 86.0887253329 'A' ", 
        "990144005 0 0 0 56.3743467667 'D' ", 
        "990168475 0 0 0 71.9040675472 'B' ", 
        "990061535 0 0 0 53.7354499276 'D' ", 
        "", 
        "==> grades.txt <==", 
        "990182545,80.018496057,'B'", 
        "990011440,84.3085396697,'B'", 
        "990086500,55.7301614131,'D'", 
        "990032870,68.6541710138,'C'", 
        "990184455,59.4840961005,'D'", 
        "990181395,66.6855281781,'C'", 
        "990144940,73.3472315477,'B'", 
        "990163645,78.76443724,'B'", 
        "990227075,61.2958542874,'C'", 
        "990246230,71.4371734198,'B'", 
        "", 
        "==> grannies.txt <==", 
        "990182545,0,0,0", 
        "990011440,0,0,0", 
        "990086500,0,0,0", 
        "990032870,0,0,0", 
        "990184455,0,0,0", 
        "990181395,0,0,0", 
        "990144940,0,0,0", 
        "990163645,0,0,0", 
        "990227075,0,0,0", 
        "990246230,0,0,0", 
        "", 
        "==> student-info.txt <==", 
        "990119785 0 0 0 64.4019973375 'C' ", 
        "990162735 0 0 0 70.5143152415 'B' ", 
        "990119780 0 0 0 88.4154280604 'A' ", 
        "990219565 0 0 0 83.4197865809 'B' ", 
        "990144000 0 0 0 67.2402481625 'C' ", 
        "990061530 0 0 0 84.1021278219 'B' ", 
        "990168470 0 0 0 86.0887253329 'A' ", 
        "990144005 0 0 0 56.3743467667 'D' ", 
        "990168475 0 0 0 71.9040675472 'B' ", 
        "990061535 0 0 0 53.7354499276 'D' ", 
        "", 
        "==> test1.txt <==", 
        "990182545,0,0,0", 
        "990011440,0,0,0", 
        "990086500,0,0,0", 
        "990032870,0,0,0", 
        "990184455,0,0,0", 
        "990181395,0,0,0", 
        "990144940,0,0,0", 
        "990163645,0,0,0", 
        "990227075,0,0,0", 
        "990246230,0,0,0", 
        "", 
        "==> test2.txt <==", 
        "990182545,80.018496057,'B'", 
        "990011440,84.3085396697,'B'", 
        "990086500,55.7301614131,'D'", 
        "990032870,68.6541710138,'C'", 
        "990184455,59.4840961005,'D'", 
        "990181395,66.6855281781,'C'", 
        "990144940,73.3472315477,'B'", 
        "990163645,78.76443724,'B'", 
        "990227075,61.2958542874,'C'", 
        "990246230,71.4371734198,'B'"
       ]
      }
     ], 
     "prompt_number": 3
    }, 
    {
     "cell_type": "markdown", 
     "source": [
      "We've been told by the university that the grades.txt file contains: student ids, grades, and letter grades.  The grannies.txt file contains students ids, the number of deaths when the student had no test in the upcoming 2 weeks, a midterm in the upcoming 2 weeks, and a final in the upcoming two weeks."
     ]
    }, 
    {
     "cell_type": "markdown", 
     "source": [
      "We want to know if there is a correlation between a student's grade, deaths of family members, and their upcoming exam stress. ", 
      "", 
      "So we need to know:", 
      "", 
      "For students with different grades (A, B, C, D, F):", 
      "", 
      "What is the total number of deaths when there are no upcoming exams, a midterm, and a final."
     ]
    }, 
    {
     "cell_type": "markdown", 
     "source": [
      "First, we have two sets of data we need to combine together.  But I make mistakes programming so I want to make sure that I don't do this with my big files."
     ]
    }, 
    {
     "cell_type": "code", 
     "collapsed": true, 
     "input": [
      "file1 = \"grannies.txt\"", 
      "file2 = \"grades.txt\"", 
      "", 
      "! head $file1 > test1.txt", 
      "! head $file2 > test2.txt"
     ], 
     "language": "python", 
     "outputs": [], 
     "prompt_number": 4
    }, 
    {
     "cell_type": "code", 
     "collapsed": true, 
     "input": [
      "#f1 = open('test1.txt', 'r')", 
      "f1 = open(file1, 'r')", 
      "", 
      "f1.seek(0)", 
      "", 
      "d_exam = {}", 
      "", 
      "for line in f1:", 
      "    dat = line.rstrip().split(',')", 
      "    id = dat[0]", 
      "    exam0, exam1, exam2 = dat[1], dat[2], dat[3]", 
      "    d_exam[id] = [exam0, exam1, exam2]", 
      "", 
      "f2 = open(file2, 'r')", 
      "#f2 = open('test2.txt', 'r')", 
      "f2.seek(0)", 
      "", 
      "d_grannies = {}", 
      "", 
      "for line in f2:", 
      "    dat = line.rstrip().split(',')", 
      "    id = dat[0]", 
      "    grade_num, grade_alpha = dat[1], dat[2]", 
      "    d_grannies[id] = [grade_num, grade_alpha]", 
      "", 
      "for key in d_exam:", 
      "    d_exam[key].append(d_grannies[key][0])", 
      "    d_exam[key].append(d_grannies[key][1])", 
      "", 
      "output = open('student-info.txt', 'w')", 
      "for key in d_exam:", 
      "    output.write('%s ' % key)", 
      "    for item in d_exam[key]:", 
      "        output.write('%s ' % item)", 
      "    output.write('\\n')", 
      "", 
      "output.close()"
     ], 
     "language": "python", 
     "outputs": [], 
     "prompt_number": 5
    }, 
    {
     "cell_type": "code", 
     "collapsed": false, 
     "input": [
      "! head student-info.txt"
     ], 
     "language": "python", 
     "outputs": [
      {
       "output_type": "stream", 
       "stream": "stdout", 
       "text": [
        "990119785 0 0 0 64.4019973375 'C' ", 
        "990162735 0 0 0 70.5143152415 'B' ", 
        "990119780 0 0 0 88.4154280604 'A' ", 
        "990219565 0 0 0 83.4197865809 'B' ", 
        "990144000 0 0 0 67.2402481625 'C' ", 
        "990061530 0 0 0 84.1021278219 'B' ", 
        "990168470 0 0 0 86.0887253329 'A' ", 
        "990144005 0 0 0 56.3743467667 'D' ", 
        "990168475 0 0 0 71.9040675472 'B' ", 
        "990061535 0 0 0 53.7354499276 'D' "
       ]
      }
     ], 
     "prompt_number": 6
    }, 
    {
     "cell_type": "code", 
     "collapsed": false, 
     "input": [
      "! wc *txt"
     ], 
     "language": "python", 
     "outputs": [
      {
       "output_type": "stream", 
       "stream": "stdout", 
       "text": [
        "      10      60     350 big-test.txt", 
        "   51350   51350 1431269 grades.txt", 
        "   51350   51350  821600 grannies.txt", 
        "   51350  308100 1790719 student-info.txt", 
        "      10      10     160 test1.txt", 
        "      10      10     277 test2.txt", 
        "  154080  410880 4044375 total"
       ]
      }
     ], 
     "prompt_number": 7
    }, 
    {
     "cell_type": "code", 
     "collapsed": true, 
     "input": [
      "! head student-info.txt > big-test.txt"
     ], 
     "language": "python", 
     "outputs": [], 
     "prompt_number": 8
    }, 
    {
     "cell_type": "code", 
     "collapsed": false, 
     "input": [
      "!cat big-test.txt"
     ], 
     "language": "python", 
     "outputs": [
      {
       "output_type": "stream", 
       "stream": "stdout", 
       "text": [
        "990119785 0 0 0 64.4019973375 'C' ", 
        "990162735 0 0 0 70.5143152415 'B' ", 
        "990119780 0 0 0 88.4154280604 'A' ", 
        "990219565 0 0 0 83.4197865809 'B' ", 
        "990144000 0 0 0 67.2402481625 'C' ", 
        "990061530 0 0 0 84.1021278219 'B' ", 
        "990168470 0 0 0 86.0887253329 'A' ", 
        "990144005 0 0 0 56.3743467667 'D' ", 
        "990168475 0 0 0 71.9040675472 'B' ", 
        "990061535 0 0 0 53.7354499276 'D' "
       ]
      }
     ], 
     "prompt_number": 9
    }, 
    {
     "cell_type": "code", 
     "collapsed": true, 
     "input": [
      "#f = open('big-test.txt', 'r')", 
      "f = open('student-info.txt', 'r')", 
      "f.seek(0)", 
      "", 
      "d = {'zero':{},'mid':{},'final':{}}", 
      "for line in f:", 
      "    dat = line.rstrip().split(' ')", 
      "    id = dat[0]", 
      "    grannies_zero, grannies_mid, grannies_final = int(dat[1]), int(dat[2]), int(dat[3])", 
      "    grade = str(dat[-1][1:-1])", 
      "    d['zero'][grade] = d['zero'].get(grade,0) + int(grannies_zero)", 
      "    d['mid'][grade] = d['mid'].get(grade,0) + int(grannies_mid)", 
      "    d['final'][grade] = d['final'].get(grade,0) + int(grannies_final)", 
      "#print d", 
      "    "
     ], 
     "language": "python", 
     "outputs": [], 
     "prompt_number": 10
    }, 
    {
     "cell_type": "code", 
     "collapsed": false, 
     "input": [
      "for key in d:", 
      "    for x in ['A', 'B', 'C', 'D']:", 
      "        print key, x, d[key][x]"
     ], 
     "language": "python", 
     "outputs": [
      {
       "output_type": "stream", 
       "stream": "stdout", 
       "text": [
        "zero"
       ]
      }, 
      {
       "output_type": "stream", 
       "stream": "stdout", 
       "text": [
        " A 1", 
        "zero B 2", 
        "zero C 1", 
        "zero D 1", 
        "mid A 1", 
        "mid B 4", 
        "mid C 9", 
        "mid D 9", 
        "final A 1", 
        "final B 8", 
        "final C 17", 
        "final D 15"
       ]
      }
     ], 
     "prompt_number": 11
    }, 
    {
     "cell_type": "code", 
     "collapsed": true, 
     "input": [
      "import matplotlib.pyplot as plt", 
      "import numpy as np"
     ], 
     "language": "python", 
     "outputs": [], 
     "prompt_number": 18
    }, 
    {
     "cell_type": "code", 
     "collapsed": false, 
     "input": [
      "x = [1,2,3,4]", 
      "y_zero = [1,2,1,1]", 
      "y_mid = [1,4,9,9]", 
      "y_final = [1,8,17,15]", 
      "", 
      "ind = np.arange(len(x))", 
      "width = 1", 
      "", 
      "fig = plt.figure()", 
      "ax = fig.add_subplot(111)", 
      "ax.plot(x, y_zero, 'b', x, y_mid, 'r', x, y_final, 'c')", 
      "ax.set_xticks(ind+width)", 
      "ax.set_xticklabels(['A','B','C','D'])", 
      "ax.set_xlabel('Student Grade')", 
      "ax.set_ylabel('# of Grannies Passed')", 
      "ax.legend(['No exam', 'Midterm', 'Final'])", 
      "show()"
     ], 
     "language": "python", 
     "outputs": [
      {
       "output_type": "display_data", 
       "png": "[encoded data removed]"
      }
     ], 
     "prompt_number": 38
    }, 
    {
     "cell_type": "markdown", 
     "source": [
      "http://www.math.toronto.edu/mpugh/DeadGrandmother.pdf", 
      "", 
      "The basic problem can be stated very simply: A student's grandmother is far more likely to ", 
      "die suddenly just before the student takes an exam, than at any other time of year.", 
      "", 
      "1. Stop giving exams. ", 
      "2. Allow only orphans to enroll in universities.", 
      "3. Have students lie to their families."
     ]
    }, 
    {
     "cell_type": "code", 
     "collapsed": true, 
     "input": [], 
     "language": "python", 
     "outputs": []
    }
   ]
  }
 ]
}