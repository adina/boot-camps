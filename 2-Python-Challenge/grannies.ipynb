{
 "metadata": {
  "name": "grannies"
 },
 "nbformat": 3,
 "nbformat_minor": 0,
 "worksheets": [
  {
   "cells": [
    {
     "cell_type": "markdown",
     "metadata": {},
     "source": [
      "### Scientific Python Basics\n",
      "\n",
      "## Software Carpentry Bootcamp\n",
      "## Columbia University, NYC,\n",
      "## January 2013\n",
      "Created and Presented by: Adina Howe and David Warde-Farley\n",
      "\n",
      "Suggest for future that dictionaries be reviewed/covered before this exercise."
     ]
    },
    {
     "cell_type": "markdown",
     "metadata": {},
     "source": [
      "Them's a lot of lines for excel....How do we look at them?"
     ]
    },
    {
     "cell_type": "code",
     "collapsed": false,
     "input": [
      "!head grades.txt"
     ],
     "language": "python",
     "metadata": {},
     "outputs": [
      {
       "output_type": "stream",
       "stream": "stdout",
       "text": [
        "990182545,80.018496057,'B'\r\n",
        "990011440,84.3085396697,'B'\r\n",
        "990086500,55.7301614131,'D'\r\n",
        "990032870,68.6541710138,'C'\r\n",
        "990184455,59.4840961005,'D'\r\n",
        "990181395,66.6855281781,'C'\r\n",
        "990144940,73.3472315477,'B'\r\n",
        "990163645,78.76443724,'B'\r\n",
        "990227075,61.2958542874,'C'\r\n",
        "990246230,71.4371734198,'B'\r\n"
       ]
      }
     ],
     "prompt_number": 25
    },
    {
     "cell_type": "markdown",
     "metadata": {},
     "source": [
      "We've been told by the university that the grades.txt file contains: student ids, grades, and letter grades.  The grannies.txt file contains students ids, the number of deaths when the student had no test in the upcoming 2 weeks, a midterm in the upcoming 2 weeks, and a final in the upcoming two weeks."
     ]
    },
    {
     "cell_type": "markdown",
     "metadata": {},
     "source": [
      "We want to know if there is a correlation between a student's grade, deaths of family members, and their upcoming exam stress. \n",
      "\n",
      "So we need to know:\n",
      "\n",
      "For students with different grades (A, B, C, D, F):\n",
      "\n",
      "What is the total number of deaths when there are no upcoming exams, a midterm, and a final."
     ]
    },
    {
     "cell_type": "markdown",
     "metadata": {},
     "source": [
      "First, we have two sets of data we need to combine together.  But I make mistakes programming so I want to make sure that I don't do this with my big files."
     ]
    },
    {
     "cell_type": "code",
     "collapsed": true,
     "input": [
      "file1 = \"grannies.txt\"\n",
      "file2 = \"grades.txt\"\n",
      "\n",
      "! head $file1 > test1.txt\n",
      "! head $file2 > test2.txt"
     ],
     "language": "python",
     "metadata": {},
     "outputs": [],
     "prompt_number": 26
    },
    {
     "cell_type": "code",
     "collapsed": false,
     "input": [
      "#f1 = open('test1.txt', 'r')\n",
      "f1 = open(file1, 'r')\n",
      "\n",
      "# initiate an empty dictionary\n",
      "exam_data = {}\n",
      "\n",
      "for line in f1:\n",
      "    dat = line.rstrip().split(',')\n",
      "    student = dat[0]\n",
      "    exam0, exam1, exam2 = dat[1], dat[2], dat[3]\n",
      "    exam_data[student] = [exam0, exam1, exam2] \n",
      "\n",
      "f2 = open(file2, 'r')\n",
      "#f2 = open('test2.txt', 'r')\n",
      "\n",
      "death_data = {}\n",
      "\n",
      "for line in f2:\n",
      "    dat = line.rstrip().split(',')\n",
      "    student = dat[0]\n",
      "    grade_num, grade_alpha = dat[1], dat[2]\n",
      "    death_data[student] = [grade_num, grade_alpha]\n",
      "\n",
      "#here we try to create one dictionary containing info from both grades and deaths\n",
      "\n",
      "for key in death_data:\n",
      "    exam_data[key].append(death_data[key][0])\n",
      "    exam_data[key].append(death_data[key][1])\n",
      "\n",
      "#lets output this new data dictionary into a file\n",
      "\n",
      "output_file = open('output.txt', 'w')\n",
      "\n",
      "#note the new concept of writing to file\n",
      "for key in exam_data:\n",
      "    output_file.write('%s ' % key)\n",
      "    for item in exam_data[key]:\n",
      "        output_file.write('%s ' % item)\n",
      "    output_file.write('\\n')\n",
      "\n",
      "output_file.close()"
     ],
     "language": "python",
     "metadata": {},
     "outputs": [],
     "prompt_number": 34
    },
    {
     "cell_type": "code",
     "collapsed": false,
     "input": [
      "! head output.txt"
     ],
     "language": "python",
     "metadata": {},
     "outputs": [
      {
       "output_type": "stream",
       "stream": "stdout",
       "text": [
        "990119785 0 0 0 64.4019973375 'C' \r\n",
        "990162735 0 0 0 70.5143152415 'B' \r\n",
        "990119780 0 0 0 88.4154280604 'A' \r\n",
        "990219565 0 0 0 83.4197865809 'B' \r\n",
        "990144000 0 0 0 67.2402481625 'C' \r\n",
        "990061530 0 0 0 84.1021278219 'B' \r\n",
        "990168470 0 0 0 86.0887253329 'A' \r\n",
        "990144005 0 0 0 56.3743467667 'D' \r\n",
        "990168475 0 0 0 71.9040675472 'B' \r\n",
        "990061535 0 0 0 53.7354499276 'D' \r\n"
       ]
      }
     ],
     "prompt_number": 28
    },
    {
     "cell_type": "code",
     "collapsed": false,
     "input": [
      "! wc grannies.txt grades.txt output.txt"
     ],
     "language": "python",
     "metadata": {},
     "outputs": [
      {
       "output_type": "stream",
       "stream": "stdout",
       "text": [
        "   51350   51350  821600 grannies.txt\r\n",
        "   51350   51350 1431269 grades.txt\r\n",
        "   51350  308100 1790719 output.txt\r\n",
        "  154050  410800 4043588 total\r\n"
       ]
      }
     ],
     "prompt_number": 29
    },
    {
     "cell_type": "code",
     "collapsed": true,
     "input": [],
     "language": "python",
     "metadata": {},
     "outputs": [],
     "prompt_number": 29
    },
    {
     "cell_type": "code",
     "collapsed": false,
     "input": [
      "!head output.txt"
     ],
     "language": "python",
     "metadata": {},
     "outputs": [
      {
       "output_type": "stream",
       "stream": "stdout",
       "text": [
        "990119785 0 0 0 64.4019973375 'C' \r\n",
        "990162735 0 0 0 70.5143152415 'B' \r\n",
        "990119780 0 0 0 88.4154280604 'A' \r\n",
        "990219565 0 0 0 83.4197865809 'B' \r\n",
        "990144000 0 0 0 67.2402481625 'C' \r\n",
        "990061530 0 0 0 84.1021278219 'B' \r\n",
        "990168470 0 0 0 86.0887253329 'A' \r\n",
        "990144005 0 0 0 56.3743467667 'D' \r\n",
        "990168475 0 0 0 71.9040675472 'B' \r\n",
        "990061535 0 0 0 53.7354499276 'D' \r\n"
       ]
      }
     ],
     "prompt_number": 30
    },
    {
     "cell_type": "code",
     "collapsed": false,
     "input": [
      "#f = open('big-test.txt', 'r')\n",
      "f = open('output.txt', 'r')\n",
      "\n",
      "#whoa, dictionaries within dictionaries\n",
      "d = {'zero':{},'mid':{},'final':{}}\n",
      "\n",
      "# let's fill in the dictionary with data from file\n",
      "for line in f:\n",
      "    dat = line.rstrip().split(' ')\n",
      "    student = dat[0]\n",
      "    grannies_zero, grannies_mid, grannies_final = int(dat[1]), int(dat[2]), int(dat[3])\n",
      "    grade = str(dat[-1][1:-1]) #To get the 'A' apostrophers out of there\n",
      "    #here we are introducing d.get methods\n",
      "    d['zero'][grade] = d['zero'].get(grade,0) + int(grannies_zero)\n",
      "    d['mid'][grade] = d['mid'].get(grade,0) + int(grannies_mid)\n",
      "    d['final'][grade] = d['final'].get(grade,0) + int(grannies_final)\n",
      "\n",
      "#printing out the output\n",
      "for key in d:\n",
      "    for x in ['A', 'B', 'C', 'D']:\n",
      "        print key, x, d[key][x]"
     ],
     "language": "python",
     "metadata": {},
     "outputs": [
      {
       "output_type": "stream",
       "stream": "stdout",
       "text": [
        "zero A 1\n",
        "zero B 2\n",
        "zero C 1\n",
        "zero D 1\n",
        "mid A 1\n",
        "mid B 4\n",
        "mid C 9\n",
        "mid D 9\n",
        "final A 1\n",
        "final B 8\n",
        "final C 17\n",
        "final D 15\n"
       ]
      }
     ],
     "prompt_number": 1
    },
    {
     "cell_type": "code",
     "collapsed": false,
     "input": [
      "import matplotlib.pyplot as plt\n",
      "import numpy as np\n",
      "\n",
      "x = [1,2,3,4]\n",
      "y_zero = [1,2,1,1]\n",
      "y_mid = [1,4,9,9]\n",
      "y_final = [1,8,17,15]\n",
      "\n",
      "ind = np.arange(len(x))\n",
      "width = 1\n",
      "\n",
      "fig = plt.figure()\n",
      "ax = fig.add_subplot(111)\n",
      "ax.plot(x, y_zero, 'b', x, y_mid, 'r', x, y_final, 'c')\n",
      "ax.set_xticks(ind+width)\n",
      "ax.set_xticklabels(['A','B','C','D'])\n",
      "ax.set_xlabel('Student Grade')\n",
      "ax.set_ylabel('# of Grannies Passed')\n",
      "ax.legend(['No exam', 'Midterm', 'Final'])\n",
      "show()"
     ],
     "language": "python",
     "metadata": {},
     "outputs": [
      {
       "output_type": "display_data",
       "png": "[encoded data removed]"
      }
     ],
     "prompt_number": 2
    },
    {
     "cell_type": "markdown",
     "metadata": {},
     "source": [
      "http://www.math.toronto.edu/mpugh/DeadGrandmother.pdf\n",
      "\n",
      "The basic problem can be stated very simply: A student's grandmother is far more likely to \n",
      "die suddenly just before the student takes an exam, than at any other time of year.\n",
      "\n",
      "1. Stop giving exams. \n",
      "2. Allow only orphans to enroll in universities.\n",
      "3. Have students lie to their families."
     ]
    },
    {
     "cell_type": "code",
     "collapsed": false,
     "input": [],
     "language": "python",
     "metadata": {},
     "outputs": []
    },
    {
     "cell_type": "code",
     "collapsed": false,
     "input": [],
     "language": "python",
     "metadata": {},
     "outputs": []
    },
    {
     "cell_type": "code",
     "collapsed": true,
     "input": [],
     "language": "python",
     "metadata": {},
     "outputs": [],
     "prompt_number": 8
    },
    {
     "cell_type": "code",
     "collapsed": false,
     "input": [],
     "language": "python",
     "metadata": {},
     "outputs": []
    }
   ],
   "metadata": {}
  }
 ]
}